{
  "nbformat": 4,
  "nbformat_minor": 0,
  "metadata": {
    "colab": {
      "name": "Python 3 notebook .ipynb",
      "provenance": [],
      "collapsed_sections": [],
      "authorship_tag": "ABX9TyPgN4p7gD8GxBD0ZyGiGp6/",
      "include_colab_link": true
    },
    "kernelspec": {
      "name": "python3",
      "display_name": "Python 3"
    }
  },
  "cells": [
    {
      "cell_type": "markdown",
      "metadata": {
        "id": "view-in-github",
        "colab_type": "text"
      },
      "source": [
        "<a href=\"https://colab.research.google.com/github/joats10215/cheese/blob/master/Python_3_notebook_.ipynb\" target=\"_parent\"><img src=\"https://colab.research.google.com/assets/colab-badge.svg\" alt=\"Open In Colab\"/></a>"
      ]
    },
    {
      "cell_type": "markdown",
      "metadata": {
        "id": "xvYxJ9o5sxUc",
        "colab_type": "text"
      },
      "source": [
        "# 1 Do you like using Jupyter notebooks?\n",
        "## \n",
        "\n",
        "\n",
        "\n"
      ]
    },
    {
      "cell_type": "markdown",
      "metadata": {
        "id": "2nMl6QZWtwQl",
        "colab_type": "text"
      },
      "source": [
        "So far i do like using Jupyter notebooks, its different than other platforms for running code than I am used to but it seems intuitive to learn compared to other methods. I like how easy it is to port projects back and forth between this and Github."
      ]
    },
    {
      "cell_type": "markdown",
      "metadata": {
        "id": "zstj1oqmtWGB",
        "colab_type": "text"
      },
      "source": [
        "# What do you want to learn more about Jupyter notebooks?\n"
      ]
    },
    {
      "cell_type": "markdown",
      "metadata": {
        "id": "0Csofefbueif",
        "colab_type": "text"
      },
      "source": [
        "The thing i still dont fully understand is how code is run on Jupyer, is there a compiler that is hidden? I also want to know how much we will learn about python in this class. "
      ]
    },
    {
      "cell_type": "markdown",
      "metadata": {
        "id": "36y_uyyNu2b3",
        "colab_type": "text"
      },
      "source": [
        "![widedog](https://raw.githubusercontent.com/joats10215/cheese/master/41c.png)\n",
        "\n"
      ]
    }
  ]
}