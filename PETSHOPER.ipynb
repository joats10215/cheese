{
  "nbformat": 4,
  "nbformat_minor": 0,
  "metadata": {
    "colab": {
      "name": "PETSHOPER.ipynb",
      "provenance": [],
      "collapsed_sections": [],
      "toc_visible": true,
      "authorship_tag": "ABX9TyNybHSKCt9EER6BLTMMqFlt",
      "include_colab_link": true
    },
    "kernelspec": {
      "name": "python3",
      "display_name": "Python 3"
    }
  },
  "cells": [
    {
      "cell_type": "markdown",
      "metadata": {
        "id": "view-in-github",
        "colab_type": "text"
      },
      "source": [
        "<a href=\"https://colab.research.google.com/github/joats10215/cheese/blob/master/PETSHOPER.ipynb\" target=\"_parent\"><img src=\"https://colab.research.google.com/assets/colab-badge.svg\" alt=\"Open In Colab\"/></a>"
      ]
    },
    {
      "cell_type": "code",
      "metadata": {
        "id": "F8wdmyBxXhvY"
      },
      "source": [
        "## PetShop ER Diagram"
      ],
      "execution_count": null,
      "outputs": []
    },
    {
      "cell_type": "markdown",
      "metadata": {
        "id": "1rkvKwCYXo4V"
      },
      "source": [
        "\n",
        "![picture](https://raw.githubusercontent.com/joats10215/cheese/master/PetShop.png)\n",
        "\n",
        "\n",
        "\n",
        "\n",
        "\n",
        "\n",
        "\n",
        "\n",
        "\n",
        "\n",
        "\n",
        "\n",
        "\n",
        "\n",
        "\n",
        "\n",
        "\n",
        "\n"
      ]
    },
    {
      "cell_type": "markdown",
      "metadata": {
        "id": "Hi3qFi6lhSXM"
      },
      "source": [
        "## Description\n",
        "\n",
        "I created this diagram with the six entities being enclosures, pets, customers, food, food transactions and animal transactions. Enclosures contain the pets and can contain either one or many pets depending on the species/size of the pet. Pets are purchased by customers who have the option to purchase one or more pets. The pets are fed food that can be categorized by type of food, bag size and unique ID. When purchased by a customer, the transactions takes the attributes of the purchased items into account and the sale in finalized when the customer provides the correct information and payment."
      ]
    }
  ]
}